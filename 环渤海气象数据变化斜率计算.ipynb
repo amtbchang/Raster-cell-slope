{
 "cells": [
  {
   "cell_type": "markdown",
   "metadata": {},
   "source": [
    "### 不同模式全球变化斜率  saved as nc file"
   ]
  },
  {
   "cell_type": "code",
   "execution_count": 1,
   "metadata": {},
   "outputs": [],
   "source": [
    "from netCDF4 import Dataset#可以拼接数据集\n",
    "import numpy as np\n",
    "import pandas as pd\n",
    "import netCDF4\n",
    "import matplotlib.pyplot as plt\n",
    "from osgeo import gdal\n",
    "import os\n",
    "name_dir = ['CNRM-CM5','GFDL-CM3', 'GISS-E2-R', 'ACCESS1-0','MPI-ESM-LR'] #\n",
    "'''五种模式行列数分别为 温度单位为K， 转换成摄氏度需要-273.15 ， 降雨单位 kg m-2 s-1 折算成mm 需要*24*3600\n",
    "(1140, 128, 256)  a = [i for i in range(0,30,5)]\n",
    "(1140, 90, 144) b = [i for i in range(1,30,5)]\n",
    "(1140, 90, 144)\n",
    "(1140, 145, 192)\n",
    "(1140, 96, 192)\n",
    "'''\n",
    "name = []\n",
    "path =  [r'I:\\future_clim\\pr\\4.5',r'I:\\future_clim\\pr\\8.5',r'I:\\future_clim\\tasmax\\4.5',r'I:\\future_clim\\tasmax\\8.5',\n",
    "         r'I:\\future_clim\\tasmin\\4.5',r'I:\\future_clim\\tasmin\\8.5']\n",
    "dirs = []\n",
    "for i in path:\n",
    "    for j in name_dir:\n",
    "        dirs.append(i + os.sep + j)\n",
    "var = ['pr', 'pr', 'tasmax', 'tasmax', 'tasmin', 'tasmin']\n"
   ]
  },
  {
   "cell_type": "markdown",
   "metadata": {},
   "source": [
    "### Linear regression function"
   ]
  },
  {
   "cell_type": "code",
   "execution_count": 24,
   "metadata": {},
   "outputs": [],
   "source": [
    "import numba as nb\n",
    "from sklearn import datasets, linear_model\n",
    "\n",
    "year = [i for i in range(2006,2101,1)]\n",
    "year = np.array(year).reshape(95,1)# year = 95\n",
    "\n",
    "@nb.jit()\n",
    "def slope_(arr):\n",
    "    regr = linear_model.LinearRegression()\n",
    "    regr.fit(year,arr) \n",
    "    return regr.coef_"
   ]
  },
  {
   "cell_type": "code",
   "execution_count": 27,
   "metadata": {},
   "outputs": [],
   "source": [
    "#write tif\n",
    "def writeTiff(im_data,im_width,im_height,im_bands,im_geotrans,im_proj,path):\n",
    "    if 'int8' in im_data.dtype.name:\n",
    "        datatype = gdal.GDT_Byte\n",
    "    elif 'int16' in im_data.dtype.name:\n",
    "        datatype = gdal.GDT_UInt16\n",
    "    else:\n",
    "        datatype = gdal.GDT_Float32\n",
    "\n",
    "    if len(im_data.shape) == 3:\n",
    "        im_bands, im_height, im_width = im_data.shape\n",
    "    elif len(im_data.shape) == 2:\n",
    "        im_data = np.array([im_data])\n",
    "    else:\n",
    "        im_bands, (im_height, im_width) = 1,im_data.shape\n",
    "        #创建文件\n",
    "    driver = gdal.GetDriverByName(\"GTiff\")\n",
    "    dataset = driver.Create(path, im_width, im_height, im_bands, datatype)\n",
    "    if(dataset!= None):\n",
    "        dataset.SetGeoTransform(im_geotrans) #写入仿射变换参数\n",
    "        dataset.SetProjection(im_proj) #写入投影\n",
    "    for i in range(im_bands):\n",
    "        dataset.GetRasterBand(i+1).WriteArray(im_data[i])\n",
    "    del dataset"
   ]
  },
  {
   "cell_type": "code",
   "execution_count": 28,
   "metadata": {},
   "outputs": [],
   "source": [
    "from osgeo import gdal\n",
    "ds = gdal.Open(r'H:\\china_geodata\\China_soil_1km\\ChinaSoil_1km.tif')\n",
    "prj = ds.GetProjection()\n",
    "#tr = ds.GetGeoTransform()\n",
    "tr = (0,1.4, 0.0, 90, 0.0, -1.4)\n",
    "\n",
    "a = [i for i in range(0,30,5)]#'CNRM-CM5',(1140, 128, 256)      1.4   1.4\n",
    "b = [i for i in range(1,30,5)]#'GFDL-CM3',(1140, 90, 144)        2    2.5\n",
    "c = [i for i in range(2,30,5)]# 'GISS-E2-R', (1140, 90, 144)     2    2.5\n",
    "d = [i for i in range(3,30,5)]#'ACCESS1-0',(1140, 145, 192)     1.25  1.875\n",
    "e = [i for i in range(4,30,5)]#'MPI-ESM-LR'(1140, 96, 192)      1.86  1.875\n"
   ]
  },
  {
   "cell_type": "code",
   "execution_count": null,
   "metadata": {},
   "outputs": [],
   "source": [
    "for i in a:#len(dirs)=30\n",
    "    data = netCDF4.MFDataset([(dirs[i]+ os.sep+j) for j in os.listdir(dirs[i]) if  j.endswith('nc')])\n",
    "    if i <10:\n",
    "        model = 4.5\n",
    "        for mon in range(12):\n",
    "            slope = []\n",
    "            for id_x in range(128):\n",
    "                for id_y in range(256):\n",
    "                    slope.append(slope_(data['pr'][mon::12, id_x,id_y]*24*3600*30))\n",
    "            writeTiff(np.array(slope).reshape(128,256),256, 128, 1,tr, prj,r'I:\\future_clim\\slope'+'//'+'CNRM_pr%f_%d.tif'%(model, mon+1))\n",
    "        model = model + 4\n",
    "    elif i >=10 and i <20:\n",
    "        model = 4.5\n",
    "        for mon in range(12):\n",
    "            slope = []\n",
    "            for id_x in range(128):\n",
    "                for id_y in range(256):\n",
    "                    slope.append(slope_(data['tasmax'][mon::12, id_x,id_y]-273.15))\n",
    "            writeTiff(np.array(slope).reshape(128,256),256, 128, 1,tr, prj,r'I:\\future_clim\\slope'+'//'+'CNRM_tasmax%f_%d.tif'%(model, mon+1))\n",
    "        model = model + 4\n",
    "    else:\n",
    "        model = 4.5\n",
    "        for mon in range(12):\n",
    "            slope = []\n",
    "            for id_x in range(128):\n",
    "                for id_y in range(256):\n",
    "                    slope.append(slope_(data['pr'][mon::12, id_x,id_y]-273.15))\n",
    "            writeTiff(np.array(slope).reshape(128,256),256, 128, 1,tr, prj,r'I:\\future_clim\\slope'+'//'+'CNRM_tasmin%f_%d.tif'%(model, mon+1))\n",
    "        model = model + 4\n",
    " ###########################       "
   ]
  },
  {
   "cell_type": "code",
   "execution_count": null,
   "metadata": {
    "scrolled": true
   },
   "outputs": [],
   "source": []
  },
  {
   "cell_type": "code",
   "execution_count": 26,
   "metadata": {},
   "outputs": [
    {
     "name": "stdout",
     "output_type": "stream",
     "text": [
      "Wall time: 8.98 ms\n"
     ]
    },
    {
     "data": {
      "text/plain": [
       "array([0.0492186])"
      ]
     },
     "execution_count": 26,
     "metadata": {},
     "output_type": "execute_result"
    }
   ],
   "source": [
    "%time slope_(data['tasmin'][0::12,1,1])"
   ]
  },
  {
   "cell_type": "code",
   "execution_count": null,
   "metadata": {},
   "outputs": [],
   "source": []
  },
  {
   "cell_type": "code",
   "execution_count": null,
   "metadata": {},
   "outputs": [],
   "source": []
  }
 ],
 "metadata": {
  "kernelspec": {
   "display_name": "Python 3",
   "language": "python",
   "name": "python3"
  },
  "language_info": {
   "codemirror_mode": {
    "name": "ipython",
    "version": 3
   },
   "file_extension": ".py",
   "mimetype": "text/x-python",
   "name": "python",
   "nbconvert_exporter": "python",
   "pygments_lexer": "ipython3",
   "version": "3.6.5"
  }
 },
 "nbformat": 4,
 "nbformat_minor": 2
}
